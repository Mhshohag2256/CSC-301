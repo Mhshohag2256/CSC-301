{
 "cells": [
  {
   "cell_type": "markdown",
   "id": "9e508174",
   "metadata": {},
   "source": [
    "# Mehedi H Shohag\n",
    "## CSC 301 - M\n",
    "## Date: 11/03/2021\n",
    "## Assignment 4"
   ]
  },
  {
   "cell_type": "code",
   "execution_count": 2,
   "id": "3a26baa6",
   "metadata": {},
   "outputs": [],
   "source": [
    "#importing required modules\n",
    "import numpy as np\n",
    "import math"
   ]
  },
  {
   "cell_type": "code",
   "execution_count": 3,
   "id": "92bb9fe6",
   "metadata": {},
   "outputs": [],
   "source": [
    "#this function will compute the given f(x)\n",
    "def function(x):\n",
    "    return (100/math.pow(x,2))*math.sin(10/x)"
   ]
  },
  {
   "cell_type": "code",
   "execution_count": 4,
   "id": "8d31d043",
   "metadata": {},
   "outputs": [],
   "source": [
    "#Implementation of Composite Simpson rule\n",
    "def Composite_Simpson(start,end,sub_division):\n",
    "    h = (end-start)/sub_division\n",
    "    evens = 0\n",
    "    odds = 0\n",
    "    \n",
    "    for i in range(1,int(sub_division/2)):\n",
    "        x = start + (2*i*h)\n",
    "        evens += function(x)\n",
    "        \n",
    "    for j in range(1,int(sub_division/2)+1):\n",
    "        x = start + (((2*j)-1)*h)\n",
    "        odds += function(x)\n",
    "\n",
    "    return (h/3)*(function(start) + 2*evens + 4*odds + function(end))"
   ]
  },
  {
   "cell_type": "code",
   "execution_count": 5,
   "id": "8c21ce50",
   "metadata": {},
   "outputs": [
    {
     "name": "stdout",
     "output_type": "stream",
     "text": [
      " Composite Simpson:\n",
      " Integral 1 = 1.8543\n",
      " Integral 2 =  1.8543\n",
      " Error = 9.701e-09\n",
      " N = 308.0\n",
      "\n"
     ]
    }
   ],
   "source": [
    "#Compute the integral\n",
    "def Integral(a,b):\n",
    "    for i in range(4,1000+1,2):\n",
    "        integral1 = Composite_Simpson(a,b,i)\n",
    "        integral2 = Composite_Simpson(a,b,i-2)\n",
    "\n",
    "        error = abs(integral1-integral2)\n",
    "        if error <= 10**(-8):\n",
    "            print(' Composite Simpson:')\n",
    "            print(' Integral 1 = {:.4f}\\n'.format(integral1) ,\n",
    "                  'Integral 2 =  {:.4f}\\n'.format(integral2),\n",
    "                  'Error = {:.3e}\\n'.format(error),\n",
    "                  'N = {:.1f}\\n' .format(i))\n",
    "            break\n",
    "Integral(a=1,b=2.5)"
   ]
  },
  {
   "cell_type": "code",
   "execution_count": 6,
   "id": "47873f95",
   "metadata": {},
   "outputs": [
    {
     "name": "stdout",
     "output_type": "stream",
     "text": [
      " Adaptive Quadrature:\n",
      " APP = 1.8543\n",
      " Error = -2.73e-10\n",
      "\n"
     ]
    }
   ],
   "source": [
    "#Implementation of Adaptive Quadrature\n",
    "def Adaptive_Quadrature(start,end,Tolerance,n):\n",
    "    true_value = 1.854279082\n",
    "    APP = 0\n",
    "    i = 1\n",
    "    TOL = [0] * (n)\n",
    "    start_Array = [0] * (n)\n",
    "    end_Array = [0] * (n)\n",
    "    h = [0] * (n)\n",
    "    FA = [0] * (n)\n",
    "    FB = [0] * (n)\n",
    "    FC = [0] * (n)\n",
    "    S = [0] * (n)\n",
    "\n",
    "    TOL[i] = 10 * Tolerance\n",
    "    start_Array[i] = start\n",
    "    h[i] = (end - start) / 2\n",
    "    FA[i] = function(start)\n",
    "    FC[i] = function(start + h[i])\n",
    "    FB[i] = function(end)\n",
    "    S[i] = h[i] * (FA[i] + 4 * FC[i] + FB[i]) / 3\n",
    "    L = [0] * (n)\n",
    "    L[i] = 1\n",
    "\n",
    "    while (i > 0):\n",
    "\n",
    "        FD = function(start_Array[i] + h[i] / 2)\n",
    "        FE = function(start_Array[i] + (3 * h[i] / 2))\n",
    "        S1 = h[i] * (FA[i] + 4 * FD + FC[i]) / 6\n",
    "        S2 = h[i] * (FC[i] + 4 * FE + FB[i]) / 6\n",
    "\n",
    "        v1 = start_Array[i]\n",
    "        v2 = FA[i]\n",
    "        v3 = FC[i]\n",
    "        v4 = FB[i]\n",
    "        v5 = h[i]\n",
    "        v6 = TOL[i]\n",
    "        v7 = S[i]\n",
    "        v8 = L[i]\n",
    "\n",
    "        i = i - 1\n",
    "\n",
    "        if abs(S1 + S2 - v7) < v6:\n",
    "            APP = APP + (S1 + S2)\n",
    "        else:\n",
    "            if (v8 >= n):\n",
    "                print(\"LEVEL EXCEEDED\")\n",
    "                break\n",
    "            else:\n",
    "                i = i + 1\n",
    "                start_Array[i] = v1 + v5\n",
    "                FA[i] = v3\n",
    "                FC[i] = FE\n",
    "                FB[i] = v4\n",
    "                h[i] = v5 / 2\n",
    "                TOL[i] = v6 / 2\n",
    "                S[i] = S2\n",
    "                L[i] = v8 + 1\n",
    "                i = i + 1\n",
    "                start_Array[i] = v1\n",
    "                FA[i] = v2\n",
    "                FC[i] = FD\n",
    "                FB[i] = v3\n",
    "                h[i] = h[i - 1]\n",
    "                TOL[i] = TOL[i - 1]\n",
    "                S[i] = S1\n",
    "                L[i] = L[i - 1]\n",
    "\n",
    "    error = true_value - APP\n",
    "    print(' Adaptive Quadrature:')\n",
    "    print(' APP = {:.4f}\\n'.format(APP),\n",
    "          'Error = {:.2e}\\n'.format(error))\n",
    "\n",
    "Adaptive_Quadrature(start=1, end=2.5, Tolerance=(math.pow(10,-8)),n=1000)"
   ]
  },
  {
   "cell_type": "markdown",
   "id": "dc033e18",
   "metadata": {},
   "source": [
    "# Discussion Analysis\n",
    "\n",
    "The error bound of Composite Simpson and Adaptive Quadrature is 9.701e-09 <br>\n",
    "and -2.73e-10. Both of them are within 10^-8 bound. The only difference between <br>\n",
    "them is Composite Simpson's rule requires the value of n to be changed manually <br>\n",
    "to get the error within bound and for the Adaptive Quadrature it predetermined <br>\n",
    "the error bound and approximates the result.\n",
    "\n",
    "For this assignment I took help from the lectures notes and from the book chapter 4.4 and 4.6"
   ]
  },
  {
   "cell_type": "code",
   "execution_count": null,
   "id": "02d41302",
   "metadata": {},
   "outputs": [],
   "source": []
  }
 ],
 "metadata": {
  "kernelspec": {
   "display_name": "Python 3",
   "language": "python",
   "name": "python3"
  },
  "language_info": {
   "codemirror_mode": {
    "name": "ipython",
    "version": 3
   },
   "file_extension": ".py",
   "mimetype": "text/x-python",
   "name": "python",
   "nbconvert_exporter": "python",
   "pygments_lexer": "ipython3",
   "version": "3.6.13"
  }
 },
 "nbformat": 4,
 "nbformat_minor": 5
}
